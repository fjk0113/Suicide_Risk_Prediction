{
  "cells": [
    {
      "cell_type": "markdown",
      "metadata": {
        "id": "fI_rEVmCOi8J"
      },
      "source": [
        "# Infer\n"
      ]
    },
    {
      "cell_type": "code",
      "execution_count": null,
      "metadata": {
        "id": "HGp0JC-OILMW"
      },
      "outputs": [],
      "source": [
        "from google.colab import drive\n",
        "drive.mount('/content/drive', force_remount=True)"
      ]
    },
    {
      "cell_type": "code",
      "execution_count": null,
      "metadata": {
        "id": "v_fvUjHsHs-1"
      },
      "outputs": [],
      "source": [
        "!pip install -qqq transformers datasets"
      ]
    },
    {
      "cell_type": "code",
      "execution_count": null,
      "metadata": {
        "id": "SU1Pv0PxHST9"
      },
      "outputs": [],
      "source": [
        "# Import packages\n",
        "import os\n",
        "import torch\n",
        "from transformers import AutoTokenizer, AutoModelForSequenceClassification"
      ]
    },
    {
      "cell_type": "code",
      "execution_count": null,
      "metadata": {
        "id": "V0b5QQeyPLo5"
      },
      "outputs": [],
      "source": [
        "# Change to your own directory\n",
        "try:\n",
        "    os.chdir(\"/content/drive/MyDrive/BT4222 Project\")\n",
        "    print(\"Directory changed\")\n",
        "except OSError:\n",
        "    print(\"Error: Can't change the Current Working Directory\")"
      ]
    },
    {
      "cell_type": "markdown",
      "metadata": {
        "id": "uX-JLdSobUra"
      },
      "source": [
        "## Load tokenizer and model"
      ]
    },
    {
      "cell_type": "code",
      "execution_count": null,
      "metadata": {
        "id": "HIrdkrjkBDtt"
      },
      "outputs": [],
      "source": [
        "def load_suicide_tokenizer_and_model(tokenizer=\"google/electra-base-discriminator\", model=\"Models/electra\"):\n",
        "  \"\"\"Load tokenizer and model instance for suicide text detection model.\"\"\"\n",
        "\n",
        "  suicide_tokenizer = AutoTokenizer.from_pretrained(tokenizer)\n",
        "  suicide_model = AutoModelForSequenceClassification.from_pretrained(model)\n",
        "\n",
        "  return suicide_tokenizer, suicide_model"
      ]
    },
    {
      "cell_type": "code",
      "execution_count": null,
      "metadata": {
        "id": "Bpp-bhhwA4ol"
      },
      "outputs": [],
      "source": [
        "suicide_tokenizer = AutoTokenizer.from_pretrained(\"google/electra-base-discriminator\")\n",
        "suicide_model =  AutoModelForSequenceClassification.from_pretrained(\"Models/electra/\")"
      ]
    },
    {
      "cell_type": "markdown",
      "metadata": {
        "id": "G_lo-ci2Ebco"
      },
      "source": [
        "## Predict suicidal intent"
      ]
    },
    {
      "cell_type": "code",
      "execution_count": null,
      "metadata": {
        "id": "cckPraXQOX_s"
      },
      "outputs": [],
      "source": [
        "def check_intent(text):\n",
        "  \"\"\"Check if suicidal intent is present in text\"\"\"\n",
        "\n",
        "  global suicide_tokenizer, suicide_model\n",
        "\n",
        "  tokenised_text = suicide_tokenizer.encode_plus(text, return_tensors=\"pt\")\n",
        "\n",
        "  logits = suicide_model(**tokenised_text)[0]\n",
        "\n",
        "  prediction = round(torch.softmax(logits, dim=1).tolist()[0][1])\n",
        "  if(prediction==0):\n",
        "    return prediction\n",
        "  else:\n",
        "    return prediction"
      ]
    },
    {
      "cell_type": "code",
      "execution_count": null,
      "metadata": {
        "id": "xGFgw-svDUhZ"
      },
      "outputs": [],
      "source": [
        "# No suicidal intent\n",
        "check_intent(\"How are you?\")"
      ]
    },
    {
      "cell_type": "code",
      "execution_count": null,
      "metadata": {
        "id": "VjdaMPcAD-fR"
      },
      "outputs": [],
      "source": [
        "# Suicidal intent\n",
        "check_intent(\"I don't belong to this world\")"
      ]
    },
    {
      "cell_type": "code",
      "source": [
        "check_intent(\"Today morning, my dark day dawned on me heavily and I was overwhelmed with self hatred and worthlessness. I wanted to end this pain, once and for all. I wrote to my doctor. I called my parents to tell them that I was about to end my life but they were so fed up of me that they said ‘do as you please’\")"
      ],
      "metadata": {
        "id": "EC1-kzxPQQnV"
      },
      "execution_count": null,
      "outputs": []
    },
    {
      "cell_type": "code",
      "source": [
        "check_intent(\"I am depressed and alone\")"
      ],
      "metadata": {
        "id": "7pqCbwQjRkaU"
      },
      "execution_count": null,
      "outputs": []
    }
  ],
  "metadata": {
    "colab": {
      "provenance": []
    },
    "kernelspec": {
      "display_name": "Python 3",
      "name": "python3"
    },
    "language_info": {
      "name": "python"
    }
  },
  "nbformat": 4,
  "nbformat_minor": 0
}